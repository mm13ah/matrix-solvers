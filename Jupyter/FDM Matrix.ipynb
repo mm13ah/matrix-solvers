{
 "cells": [
  {
   "cell_type": "code",
   "execution_count": 10,
   "metadata": {},
   "outputs": [
    {
     "data": {
      "text/plain": [
       "Matrix([\n",
       "[      T11,             -T11 + T12],\n",
       "[T11 + T21, -T11 + T12 - T21 + T22]])"
      ]
     },
     "execution_count": 10,
     "metadata": {},
     "output_type": "execute_result"
    }
   ],
   "source": [
    "#Import necessary modules\n",
    "import numpy as np\n",
    "import scipy as sp\n",
    "from scipy.sparse import diags\n",
    "import matplotlib.pyplot as plt\n",
    "from mpl_toolkits import mplot3d\n",
    "from mpl_toolkits.mplot3d import Axes3D\n",
    "%matplotlib inline\n",
    "from sympy import symbols, Matrix\n",
    "\n",
    "# n=3\n",
    "# a11, a12, a13, a21, a22, a23, a31, a32, a33 = symbols('a11 a12 a13 a21 a22 a23 a31 a32 a33')\n",
    "# b11, b12, b13, b21, b22, b23, b31, b32, b33 = symbols('b11 b12 b13 b21 b22 b23 b31 b32 b33')\n",
    "# t11, t12, t13, t21, t22, t23, t31, t32, t33 = symbols('t11 t12 t13 t21 t22 t23 t31 t32 t33')\n",
    "\n",
    "# A = Matrix([[a11,a12,a13], [a21,a22,a23], [a31,a32,a33]])\n",
    "# B = Matrix([[b11,b12,b13], [b21,b22,b23], [b31,b32,b33]])\n",
    "# T = Matrix([[t11,t12,t13], [t21,t22,t23], [t31,t32,t33]])\n",
    "        \n",
    "# A = Matrix([[1,1,0],[0,1,1],[0,0,1]])\n",
    "# B = Matrix([[0,-1,0],[1,0,-1],[0,1,0]])\n",
    "# A*T*B\n",
    "\n",
    "n=4\n",
    "a11, a12, a21, a22 = symbols('a11 a12 a21 a22')\n",
    "b11, b12, b21, b22 = symbols('b11 b12 b21 b22')\n",
    "T11, T12, T21, T22 = symbols('T11 T12 T21 T22')\n",
    "\n",
    "A = Matrix([[a11,a12], [a21,a22]])\n",
    "B = Matrix([[b11,b12], [b21,b22]])\n",
    "T = Matrix([[T11,T12], [T21,T22]])\n",
    "        \n",
    "A = Matrix([[1,0],[1,1]])\n",
    "B = Matrix([[1,-1],[0,1]])\n",
    "A*T*B\n"
   ]
  },
  {
   "cell_type": "code",
   "execution_count": 44,
   "metadata": {},
   "outputs": [
    {
     "name": "stdout",
     "output_type": "stream",
     "text": [
      "T12 + T22 \n",
      "\n",
      "-T11 + T13 - T21 + T23 \n",
      "\n",
      "-T12 + T14 - T22 + T24 \n",
      "\n",
      "-T13 - T23 \n",
      "\n",
      "T22 + T32 \n",
      "\n",
      "-T21 + T23 - T31 + T33 \n",
      "\n",
      "-T22 + T24 - T32 + T34 \n",
      "\n",
      "-T23 - T33 \n",
      "\n",
      "T32 + T42 \n",
      "\n",
      "-T31 + T33 - T41 + T43 \n",
      "\n",
      "-T32 + T34 - T42 + T44 \n",
      "\n",
      "-T33 - T43 \n",
      "\n",
      "T42 \n",
      "\n",
      "-T41 + T43 \n",
      "\n",
      "-T42 + T44 \n",
      "\n",
      "-T43 \n",
      "\n"
     ]
    }
   ],
   "source": [
    "#Define tridiagonal matrices\n",
    "# A_diags = [[0],[1],[1]]\n",
    "# B_diags = [[1],[0],[-1]]\n",
    "T11, T12, T13, T14, T21, T22, T23, T24, T31, T32, T33, T34, T41, T42, T43, T44 = symbols('T11 T12 T13 T14 T21 T22 T23 T24 T31 T32 T33 T34 T41 T42 T43 T44')\n",
    "T = Matrix([[T11,T12,T13,T14], [T21,T22,T23,T24], [T31,T32,T33,T34], [T41,T42,T43,T44]])\n",
    "A = Matrix([[1,1,0,0],[0,1,1,0],[0,0,1,1],[0,0,0,1]])\n",
    "B = Matrix([[0,-1,0,0],[1,0,-1,0],[0,1,0,-1],[0,0,1,0]])\n",
    "\n",
    "\n",
    "# A = diags(A_diags, [-1, 0, 1], shape=(n, n))\n",
    "# B = diags(B_diags, [-1, 0, 1], shape=(n, n))\n",
    "X = A*T*B\n",
    "for i in range(0,16):\n",
    "    print(X[i], '\\n')"
   ]
  },
  {
   "cell_type": "code",
   "execution_count": null,
   "metadata": {},
   "outputs": [],
   "source": []
  }
 ],
 "metadata": {
  "kernelspec": {
   "display_name": "Python 3",
   "language": "python",
   "name": "python3"
  },
  "language_info": {
   "codemirror_mode": {
    "name": "ipython",
    "version": 3
   },
   "file_extension": ".py",
   "mimetype": "text/x-python",
   "name": "python",
   "nbconvert_exporter": "python",
   "pygments_lexer": "ipython3",
   "version": "3.6.4"
  }
 },
 "nbformat": 4,
 "nbformat_minor": 2
}
