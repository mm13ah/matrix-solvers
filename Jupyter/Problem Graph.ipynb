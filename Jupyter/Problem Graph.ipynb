{
 "cells": [
  {
   "cell_type": "markdown",
   "metadata": {},
   "source": [
    "## Problem Graph\n"
   ]
  },
  {
   "cell_type": "code",
   "execution_count": null,
   "metadata": {},
   "outputs": [],
   "source": [
    "#Import necessary modules\n",
    "import numpy as np\n",
    "from scipy.sparse import diags, csr_matrix, kron\n",
    "from scipy.linalg import solve_sylvester, schur, expm\n",
    "from scipy.sparse.linalg import spsolve, cg\n",
    "from scipy.integrate import quad\n",
    "import matplotlib.pyplot as plt\n",
    "from mpl_toolkits import mplot3d\n",
    "from mpl_toolkits.mplot3d import Axes3D\n",
    "%matplotlib inline\n",
    "import time\n",
    "import random\n",
    "%config InlineBackend.figure_format = 'svg'\n",
    "\n",
    "def compute_err(U, U_exact):\n",
    "    n = len(U)\n",
    "    err_inf = 0\n",
    "    err_sq = 0\n",
    "    for i in range(0,n):\n",
    "        for j in range(0,n):\n",
    "            err_sq += np.absolute(U_exact[i][j] - U[i][j])**2\n",
    "            if np.absolute(U_exact[i][j] - U[i][j]) > err_inf:\n",
    "                err_inf = np.absolute(U_exact[i][j] - U[i][j])\n",
    "        \n",
    "    err_sq = (err_sq * h**2)**0.5\n",
    "    return err_inf, err_sq\n",
    "\n",
    "#Define parameters\n",
    "n = 100 #number of internal nodes in each direction (number of unknowns)\n",
    "h = 1/(n+1) #step size\n",
    "\n",
    "#Define x and y as arrays between 0 and 1 with n evenly spaced points (internal nodes)\n",
    "t1 = np.linspace(h, 1-h, n)\n",
    "t2 = np.linspace(h, 1-h, n)\n",
    "\n",
    "#Create internal mesh (excludes boundaries)\n",
    "T1, T2 = np.meshgrid(x, y, indexing='ij')\n",
    "\n",
    "#Define f\n",
    "f = 2 * np.pi**2 * np.sin(np.pi*X) * np.sin(np.pi*Y) * np.sqrt(1 + T1**2 + T2**2)\n",
    "\n",
    "g = 1 + T1**2 + T2**2\n",
    "\n",
    "g_ij = \n",
    "\n",
    "\n"
   ]
  }
 ],
 "metadata": {
  "kernelspec": {
   "display_name": "Python 3",
   "language": "python",
   "name": "python3"
  },
  "language_info": {
   "codemirror_mode": {
    "name": "ipython",
    "version": 3
   },
   "file_extension": ".py",
   "mimetype": "text/x-python",
   "name": "python",
   "nbconvert_exporter": "python",
   "pygments_lexer": "ipython3",
   "version": "3.6.5"
  }
 },
 "nbformat": 4,
 "nbformat_minor": 2
}
