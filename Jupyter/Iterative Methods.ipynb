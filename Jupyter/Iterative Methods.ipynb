{
 "cells": [
  {
   "cell_type": "markdown",
   "metadata": {},
   "source": [
    "# Iterative Sylvester Solvers\n",
    "## Gradient Based Method\n",
    "To solve $AX + XB = C$, rewrite as:\n",
    "- $AX = C-XB$\n",
    "- $XB = C-AX$\n",
    "\n",
    "Then define two recursive sequences:\n",
    "- $X_k^{(1)} = X_{k-1}^{(1)} + \\kappa A^T (C-AX_{k-1}^{(1)} - X_{k-1}^{(1)}B)$\n",
    "- $X_k^{(2)} = X_{k-1}^{(2)} + \\kappa (C-AX_{k-1}^{(2)} - X_{k-1}^{(2)}B)B^T$\n",
    "\n",
    "where $\\kappa$ is the relative step size. The $k^{\\text{th}}$ approximate solution is then defined as the average of the above two iterative procedures\n",
    "- $X_k = \\frac{X_k^{(1)} + X_k^{(2)}}{2}$\n",
    "\n",
    "To compute this an appropriate initial approximate solution $X_0$ is needed. The method converges if \n",
    "- $0 < \\kappa < \\frac{2}{\\lambda_{\\text{max}}(AA^T) + \\lambda_{\\text{max}}(B^TB)} $\n",
    "\n",
    "where $\\lambda_{\\text{max}}(AA^T)$ is the max eigenvalue of $AA^T$\n",
    "\n",
    "### For TU+UT=F\n",
    "Recursive sequences: (noting that $T^T = T$)\n",
    "- $U_k^{(1)} = U_{k-1}^{(1)} + \\kappa T(F-TU_{k-1}^{(1)} - U_{k-1}^{(1)}T)$\n",
    "- $U_k^{(2)} = U_{k-1}^{(2)} + \\kappa (F-TU_{k-1}^{(2)} - U_{k-1}^{(2)}T)T$\n",
    "\n",
    "$k^{\\text{th}}$ approximate solution $U_k$ is:\n",
    "- $U_k = \\frac{U_k^{(1)} + U_k^{(2)}}{2}$\n",
    "\n",
    "Solution converges if:\n",
    "- $0 < \\kappa < \\frac{1}{\\lambda_{\\text{max}}(T^2)} $\n"
   ]
  },
  {
   "cell_type": "code",
   "execution_count": 12,
   "metadata": {},
   "outputs": [
    {
     "name": "stdout",
     "output_type": "stream",
     "text": [
      "224863.0789618813\n",
      "Iterative step size too large. Method will not converge.\n",
      "k must be smaller than:  4.447150704404966e-06\n"
     ]
    },
    {
     "data": {
      "image/png": "[encoded data removed]",
      "text/plain": [
       "<matplotlib.figure.Figure at 0x10ada42b0>"
      ]
     },
     "metadata": {},
     "output_type": "display_data"
    }
   ],
   "source": [
    "#Import necessary modules\n",
    "import numpy as np\n",
    "import scipy as sp\n",
    "from scipy.sparse import diags\n",
    "from scipy.linalg import solve_sylvester #computes solution to AX + XB = Q\n",
    "import matplotlib.pyplot as plt\n",
    "from mpl_toolkits import mplot3d\n",
    "from mpl_toolkits.mplot3d import Axes3D\n",
    "%matplotlib inline\n",
    "import time\n",
    "import pylab\n",
    "\n",
    "#Define parameters\n",
    "n = 10 #number of internal nodes in each direction (number of unknowns)\n",
    "N = n+2 #total number of nodes in each direction (includes boundaries)\n",
    "h = 1/(n+1) #step size\n",
    "\n",
    "U = np.zeros([n,n])\n",
    "\n",
    "#Define convergence tol, intial guess and iteration step\n",
    "tol = np.empty([n,n])\n",
    "for i in range(0,n):\n",
    "    for j in range(0,n):\n",
    "        tol[i][j]=0.1\n",
    "        U[i][j] = 0\n",
    "        \n",
    "#Set U_1 & U_2 equal to initial guess\n",
    "U_1 = U_2 = U\n",
    "\n",
    "#Define x and y as arrays between 0 and 1 with n evenly spaced points (internal nodes)\n",
    "x = np.linspace(h, 1-h, n)\n",
    "y = np.linspace(h, 1-h, n)\n",
    "\n",
    "#Create internal mesh (excludes boundaries)\n",
    "X, Y = np.meshgrid(x, y, indexing='ij')\n",
    "\n",
    "#Define F \n",
    "F = 2 * np.pi**2 * np.sin(np.pi*X) * np.sin(np.pi*Y)    \n",
    "        \n",
    "#Define tridiagonal matrix T\n",
    "diagonals = [[-2],[1],[1]]\n",
    "T = np.multiply((-1/h**2), diags(diagonals, [0, -1, 1], shape=(n, n)).toarray())\n",
    "\n",
    "#Calculate eigenvalues to check method converges\n",
    "eigvals = np.linalg.eig(np.matmul(T,T))[0]\n",
    "\n",
    "#Get maximum eigenvalue\n",
    "eig_max = np.max(eigvals)\n",
    "\n",
    "print(eig_max)\n",
    "\n",
    "k = 1\n",
    "\n",
    "plt.figure(0)\n",
    "plt.suptitle('Structure of T^2', fontsize=14, fontweight='bold')\n",
    "plt.imshow(np.matmul(T,T))\n",
    "\n",
    "if(k<1/eig_max):\n",
    "    num_steps = 0\n",
    "    while (np.absolute(np.matmul(T,U) + np.matmul(U,T) - F) > tol).any() == True:\n",
    "        U_1 = U_1 + k*np.matmul(T,(F - np.matmul(T, U_1) - np.matmul(U_1,T)))\n",
    "        U_2 = U_2 + k*np.matmul((F - np.matmul(T,U_2) - np.matmul(U_2,T)), T)\n",
    "\n",
    "        U = (U_1+U_2)/2\n",
    "        num_steps += 1\n",
    "        \n",
    "        print(num_steps)\n",
    "        print(np.absolute(np.matmul(T,U) + np.matmul(U,T) - F) )    \n",
    "\n",
    "    #Plot computed solution\n",
    "    plt.figure(1)\n",
    "    plt.suptitle('Computed solution (n=' + str(n) +')', fontsize=14, fontweight='bold')\n",
    "    ax = plt.axes(projection='3d')\n",
    "    xline = np.reshape(X, -1)\n",
    "    yline = np.reshape(Y, -1)\n",
    "    zline = np.reshape(U, -1)\n",
    "    ax.set_xlabel('x')\n",
    "    ax.set_ylabel('y')\n",
    "    ax.set_zlabel('u')\n",
    "    ax.plot3D(xline, yline, zline)\n",
    "\n",
    "else:\n",
    "    print('Iterative step size too large. Method will not converge.\\nk must be smaller than: ', (1/eig_max))\n",
    "\n",
    "    \n",
    "\n",
    "\n",
    "\n"
   ]
  },
  {
   "cell_type": "code",
   "execution_count": 13,
   "metadata": {},
   "outputs": [
    {
     "data": {
      "text/plain": [
       "7400.775384458862"
      ]
     },
     "execution_count": 13,
     "metadata": {},
     "output_type": "execute_result"
    }
   ],
   "source": [
    "1664161139.6547208 / 224863.0789618813"
   ]
  },
  {
   "cell_type": "code",
   "execution_count": null,
   "metadata": {},
   "outputs": [],
   "source": []
  }
 ],
 "metadata": {
  "kernelspec": {
   "display_name": "Python 3",
   "language": "python",
   "name": "python3"
  },
  "language_info": {
   "codemirror_mode": {
    "name": "ipython",
    "version": 3
   },
   "file_extension": ".py",
   "mimetype": "text/x-python",
   "name": "python",
   "nbconvert_exporter": "python",
   "pygments_lexer": "ipython3",
   "version": "3.6.4"
  }
 },
 "nbformat": 4,
 "nbformat_minor": 2
}
