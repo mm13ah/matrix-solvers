{
 "cells": [
  {
   "cell_type": "markdown",
   "metadata": {},
   "source": [
    "# Direct Solvers"
   ]
  },
  {
   "cell_type": "markdown",
   "metadata": {},
   "source": [
    "## Kronecker Product - Sparse Solver\n",
    "### General algorithm\n",
    "Rewrite $AX+XB=C$ as \n",
    "- $\\mathcal{A}x = c$\n",
    "\n",
    "where $\\mathcal{A} = I \\otimes A + B^* \\otimes I$, $x = \\text{vec}(X)$ and $c = \\text{vec}(C)$\n",
    "\n",
    "### TU + UT = F\n",
    "Rewrite as\n",
    "- $\\mathcal{T}u = f$\n",
    "\n",
    "where $\\mathcal{T} = I \\otimes T + T \\otimes I$, $u = \\text{vec}(U)$ and $f = \\text{vec}(F)$"
   ]
  },
  {
   "cell_type": "code",
   "execution_count": 5,
   "metadata": {},
   "outputs": [],
   "source": [
    "import numpy as np\n",
    "from scipy.sparse import kron\n",
    "from scipy.sparse.linalg import spsolve\n",
    "import time\n",
    "\n",
    "def kron_prod_dir(T,F):\n",
    "    n = len(F)\n",
    "    start_time = time.time()\n",
    "    F = np.reshape(F,-1)\n",
    "    A = kron(np.eye(n),T) + kron(T.transpose(),np.eye(n)) #A = I kron T + T^t kron I\n",
    "    kron_time = time.time() - start_time\n",
    "    U = spsolve(A, F) #Solve using scipy sparse solver\n",
    "    end_time = time.time()\n",
    "    solve_time = end_time - kron_time - start_time\n",
    "    total_time = end_time - start_time\n",
    "    timings = [kron_time, solve_time, total_time]\n",
    "    U = np.reshape(U, (n,n)) #Reshape U for plotting/computing error\n",
    "    return U, timings"
   ]
  },
  {
   "cell_type": "code",
   "execution_count": 8,
   "metadata": {},
   "outputs": [],
   "source": [
    "import numpy as np\n",
    "import matplotlib.pyplot as plt\n",
    "%matplotlib inline\n",
    "%config InlineBackend.figure_format = 'svg'\n",
    "\n",
    "def plot_sol(X,Y,U):\n",
    "    plt.figure(0)\n",
    "    xline = np.reshape(X, -1)\n",
    "    yline = np.reshape(Y, -1)\n",
    "    zline = np.reshape(U, -1)\n",
    "    plt.imshow(U, extent=[0,1,0,1], origin='lower')\n",
    "    plt.colorbar()\n",
    "    plt.axis(aspect='image')\n",
    "    plt.xlabel('x')\n",
    "    plt.ylabel('y')\n",
    "\n",
    "def compute_err(U, U_exact):\n",
    "    n = len(U)\n",
    "    err_inf = 0\n",
    "    err_sq = 0\n",
    "    for i in range(0,n):\n",
    "        for j in range(0,n):\n",
    "            err_sq += np.absolute(U_exact[i][j] - U[i][j])**2\n",
    "            if np.absolute(U_exact[i][j] - U[i][j]) > err_inf:\n",
    "                err_inf = np.absolute(U_exact[i][j] - U[i][j])\n",
    "        \n",
    "    err_sq = (err_sq * h**2)**0.5\n",
    "    return err_inf, err_sq"
   ]
  },
  {
   "cell_type": "code",
   "execution_count": 10,
   "metadata": {},
   "outputs": [
    {
     "name": "stdout",
     "output_type": "stream",
     "text": [
      "Time taken: [0.005593299865722656, 0.0912163257598877, 0.09680962562561035]\n",
      "Error inf: 5.18072938893166e-05 \n",
      "Error sq: 2.590364694610492e-05\n"
     ]
    }
   ],
   "source": [
    "from scipy.sparse import diags\n",
    "\n",
    "#Define parameters\n",
    "n = 125 #number of internal nodes in each direction (number of unknowns)\n",
    "h = 1/(n+1) #step size\n",
    "\n",
    "U = np.zeros([n,n])\n",
    "\n",
    "#Define x and y as arrays between 0 and 1 with n evenly spaced points (internal nodes)\n",
    "x = np.linspace(h, 1-h, n)\n",
    "y = np.linspace(h, 1-h, n)\n",
    "\n",
    "#Create internal mesh (excludes boundaries)\n",
    "X, Y = np.meshgrid(x, y, indexing='ij')\n",
    "\n",
    "#Define F \n",
    "F = 2 * np.pi**2 * np.sin(np.pi*X) * np.sin(np.pi*Y)  \n",
    "\n",
    "#Define tridiagonal matrix T\n",
    "diagonals = [[-2],[1],[1]]\n",
    "T = np.multiply((-1)/(h**2), diags(diagonals, [0, -1, 1], shape=(n, n)).toarray())\n",
    "\n",
    "#Compute exact solution for comparison\n",
    "U_exact = np.sin(np.pi*X) * np.sin(np.pi*Y)\n",
    "\n",
    "#Solve system\n",
    "U, total_time = kron_prod_dir(T,F)\n",
    "err_inf, err_sq = compute_err(U, U_exact)\n",
    "print('Time taken:', total_time)\n",
    "print('Error inf:', err_inf, '\\nError sq:', err_sq)"
   ]
  },
  {
   "cell_type": "code",
   "execution_count": null,
   "metadata": {},
   "outputs": [],
   "source": []
  }
 ],
 "metadata": {
  "kernelspec": {
   "display_name": "Python 3",
   "language": "python",
   "name": "python3"
  },
  "language_info": {
   "codemirror_mode": {
    "name": "ipython",
    "version": 3
   },
   "file_extension": ".py",
   "mimetype": "text/x-python",
   "name": "python",
   "nbconvert_exporter": "python",
   "pygments_lexer": "ipython3",
   "version": "3.6.5"
  }
 },
 "nbformat": 4,
 "nbformat_minor": 2
}
