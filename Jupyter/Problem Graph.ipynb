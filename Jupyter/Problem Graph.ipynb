{
 "cells": [
  {
   "cell_type": "markdown",
   "metadata": {},
   "source": [
    "## Problem Graph\n",
    "\n",
    "$u_{\\theta_1 \\theta_1} - u_{\\theta_2 \\theta_2} = f$ on $\\Gamma$ (and $u=0$ on $\\partial \\Gamma$)\n",
    "\n",
    "let $U(\\theta_1, \\theta_2) = u(\\eta(\\theta_1, \\theta_2))$\n",
    "\n",
    "$F(\\theta_1, \\theta_2) = f(\\eta(\\theta_1, \\theta_2))$"
   ]
  },
  {
   "cell_type": "code",
   "execution_count": null,
   "metadata": {},
   "outputs": [],
   "source": [
    "import numpy as np\n"
   ]
  }
 ],
 "metadata": {
  "kernelspec": {
   "display_name": "Python 3",
   "language": "python",
   "name": "python3"
  },
  "language_info": {
   "codemirror_mode": {
    "name": "ipython",
    "version": 3
   },
   "file_extension": ".py",
   "mimetype": "text/x-python",
   "name": "python",
   "nbconvert_exporter": "python",
   "pygments_lexer": "ipython3",
   "version": "3.6.5"
  }
 },
 "nbformat": 4,
 "nbformat_minor": 2
}
