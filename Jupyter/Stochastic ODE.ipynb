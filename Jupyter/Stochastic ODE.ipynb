{
 "cells": [
  {
   "cell_type": "markdown",
   "metadata": {},
   "source": [
    "## Stochastic ODE\n",
    "$\\frac{dy(t)}{dt} = -ky$ where decay rate coefficient $k$ is considered to be a random variable $k(\\theta)$ with pdf $f(k)$ and mean value $\\bar{k}$."
   ]
  },
  {
   "cell_type": "code",
   "execution_count": 5,
   "metadata": {},
   "outputs": [],
   "source": [
    "#Import necessary modules\n",
    "import numpy as np\n",
    "from scipy.sparse import diags, csr_matrix, kron\n",
    "from scipy.linalg import solve_sylvester, schur, expm\n",
    "from scipy.sparse.linalg import spsolve, cg\n",
    "from scipy.integrate import quad\n",
    "import matplotlib.pyplot as plt\n",
    "from mpl_toolkits import mplot3d\n",
    "from mpl_toolkits.mplot3d import Axes3D\n",
    "%matplotlib inline\n",
    "import time\n",
    "import random\n",
    "%config InlineBackend.figure_format = 'svg'"
   ]
  },
  {
   "cell_type": "code",
   "execution_count": 6,
   "metadata": {},
   "outputs": [],
   "source": [
    "def plot_sol(X,Y,U,i):\n",
    "    plt.figure(i)\n",
    "    xline = np.reshape(X, -1)\n",
    "    yline = np.reshape(Y, -1)\n",
    "    zline = np.reshape(U, -1)\n",
    "    plt.imshow(U, extent=[-1,1,-1,1], origin='lower')\n",
    "    plt.colorbar()\n",
    "    plt.axis(aspect='image')\n",
    "    plt.xlabel('x')\n",
    "    plt.ylabel('y')\n",
    "\n",
    "\n",
    "def compute_err(U, U_exact):\n",
    "    n = len(U)\n",
    "    err_inf = 0\n",
    "    err_sq = 0\n",
    "    for i in range(0,n):\n",
    "        for j in range(0,n):\n",
    "            err_sq += np.absolute(U_exact[i][j] - U[i][j])**2\n",
    "            if np.absolute(U_exact[i][j] - U[i][j]) > err_inf:\n",
    "                err_inf = np.absolute(U_exact[i][j] - U[i][j])\n",
    "        \n",
    "    err_sq = (err_sq * h**2)**0.5\n",
    "    return err_inf, err_sq\n"
   ]
  },
  {
   "cell_type": "code",
   "execution_count": 15,
   "metadata": {},
   "outputs": [],
   "source": [
    "import numpy as np\n",
    "from scipy.sparse import diags, kron\n",
    "from scipy.sparse.linalg import spsolve, cg\n",
    "from scipy.special import hermite\n",
    "from scipy.integrate import quad\n",
    "from sympy import *\n",
    "from scipy import sparse\n",
    "\n",
    "def inner_product(i,j,l,squared=False):\n",
    "    if squared == True:\n",
    "        I = lambda xi: hermite(i,xi)*hermite(j,xi)\n",
    "    else:\n",
    "        I = lambda xi: hermite(i,xi)*hermite(j,xi)*hermite(l,xi)\n",
    "    return quad(I,0,1)[0]\n",
    "\n",
    "def f(l,y,p):\n",
    "    sum = 0\n",
    "    for i in range(0,p+1):\n",
    "        for j in range(0,p+1):\n",
    "            sum += inner_product(i,j,l)*y\n",
    "    return (-1/inner_product(l,l,l,True))*sum\n",
    "\n",
    "p = 3 #polynomial parameter\n",
    "y = 1 #initial condition\n",
    "t = 0.1 #time step\n",
    "\n",
    "for l in range(0,p+1):\n",
    "    k1 = t*f(l,y,p)\n",
    "    k2 = t*f(l,y+(k1/2),p)\n",
    "    y = y + k2\n",
    "\n",
    "\n"
   ]
  },
  {
   "cell_type": "code",
   "execution_count": null,
   "metadata": {},
   "outputs": [],
   "source": []
  }
 ],
 "metadata": {
  "kernelspec": {
   "display_name": "Python 3",
   "language": "python",
   "name": "python3"
  },
  "language_info": {
   "codemirror_mode": {
    "name": "ipython",
    "version": 3
   },
   "file_extension": ".py",
   "mimetype": "text/x-python",
   "name": "python",
   "nbconvert_exporter": "python",
   "pygments_lexer": "ipython3",
   "version": "3.6.5"
  }
 },
 "nbformat": 4,
 "nbformat_minor": 2
}
