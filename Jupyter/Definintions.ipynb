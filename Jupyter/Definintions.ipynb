{
 "cells": [
  {
   "cell_type": "markdown",
   "metadata": {},
   "source": [
    "# Definitions\n",
    "- Sylvester equation: $AX + XB = C$\n",
    "- Lyapunov equation: $AXA^H - X + Q =0$ (discrete), $AX + XA^H + Q=0$ (continuous), $Q$ is a Hermitian matrix\n",
    "- Conjugate transpose: Obtained by taking the transpose of a matrix then the complex conjugate of each element\n",
    "- Hermitian matrix: Complex square matrix that is equal to its own conjugate transpose\n",
    "- Eigenvalues: Solve $\\text{det}(A - \\lambda I) = 0$\n",
    "- Eigenvectors: Solve $(A - \\lambda I)\\mathbf{v} = 0$\n",
    "- Unitary matrix: A complex matrix whose inverse is also its conjugate transpose"
   ]
  },
  {
   "cell_type": "code",
   "execution_count": null,
   "metadata": {},
   "outputs": [],
   "source": []
  }
 ],
 "metadata": {
  "kernelspec": {
   "display_name": "Python 3",
   "language": "python",
   "name": "python3"
  },
  "language_info": {
   "codemirror_mode": {
    "name": "ipython",
    "version": 3
   },
   "file_extension": ".py",
   "mimetype": "text/x-python",
   "name": "python",
   "nbconvert_exporter": "python",
   "pygments_lexer": "ipython3",
   "version": "3.6.4"
  }
 },
 "nbformat": 4,
 "nbformat_minor": 2
}
