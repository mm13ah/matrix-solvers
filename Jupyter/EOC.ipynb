{
 "cells": [
  {
   "cell_type": "code",
   "execution_count": 2,
   "metadata": {},
   "outputs": [
    {
     "ename": "KeyboardInterrupt",
     "evalue": "",
     "output_type": "error",
     "traceback": [
      "\u001b[0;31m---------------------------------------------------------------------------\u001b[0m",
      "\u001b[0;31mKeyboardInterrupt\u001b[0m                         Traceback (most recent call last)",
      "\u001b[0;32m<ipython-input-2-74ca7b5c48ad>\u001b[0m in \u001b[0;36m<module>\u001b[0;34m()\u001b[0m\n\u001b[1;32m     27\u001b[0m \u001b[0;34m\u001b[0m\u001b[0m\n\u001b[1;32m     28\u001b[0m     \u001b[0;31m#Define F\u001b[0m\u001b[0;34m\u001b[0m\u001b[0;34m\u001b[0m\u001b[0m\n\u001b[0;32m---> 29\u001b[0;31m     \u001b[0mF\u001b[0m \u001b[0;34m=\u001b[0m \u001b[0;36m2\u001b[0m \u001b[0;34m*\u001b[0m \u001b[0mnp\u001b[0m\u001b[0;34m.\u001b[0m\u001b[0mpi\u001b[0m\u001b[0;34m**\u001b[0m\u001b[0;36m2\u001b[0m \u001b[0;34m*\u001b[0m \u001b[0mnp\u001b[0m\u001b[0;34m.\u001b[0m\u001b[0msin\u001b[0m\u001b[0;34m(\u001b[0m\u001b[0mnp\u001b[0m\u001b[0;34m.\u001b[0m\u001b[0mpi\u001b[0m\u001b[0;34m*\u001b[0m\u001b[0mX\u001b[0m\u001b[0;34m)\u001b[0m \u001b[0;34m*\u001b[0m \u001b[0mnp\u001b[0m\u001b[0;34m.\u001b[0m\u001b[0msin\u001b[0m\u001b[0;34m(\u001b[0m\u001b[0mnp\u001b[0m\u001b[0;34m.\u001b[0m\u001b[0mpi\u001b[0m\u001b[0;34m*\u001b[0m\u001b[0mY\u001b[0m\u001b[0;34m)\u001b[0m\u001b[0;34m\u001b[0m\u001b[0m\n\u001b[0m\u001b[1;32m     30\u001b[0m \u001b[0;34m\u001b[0m\u001b[0m\n\u001b[1;32m     31\u001b[0m     \u001b[0;31m#Define tridiagonal matrix T\u001b[0m\u001b[0;34m\u001b[0m\u001b[0;34m\u001b[0m\u001b[0m\n",
      "\u001b[0;31mKeyboardInterrupt\u001b[0m: "
     ]
    }
   ],
   "source": [
    "#Import necessary modules\n",
    "import numpy as np\n",
    "from scipy.sparse import diags\n",
    "import matplotlib.pyplot as plt\n",
    "from mpl_toolkits import mplot3d\n",
    "%matplotlib inline\n",
    "import time\n",
    "\n",
    "#Define arrays for step sizes and errors\n",
    "h_arr = []\n",
    "error_arr = []\n",
    "n_arr = [10, 100, 1000, 2000, 5000, 10000]\n",
    "\n",
    "for a in range(0,len(n_arr)):\n",
    "\n",
    "    #Define parameters\n",
    "    n = n_arr[a] #number of internal nodes in each direction (number of unknowns)\n",
    "    N = n+2 #total number of nodes in each direction (includes boundaries)\n",
    "    h = 1/(n+1) #step size\n",
    "\n",
    "    #Define x and y as arrays between 0 and 1 with n evenly spaced points (internal nodes)\n",
    "    x = np.linspace(h, 1-h, n)\n",
    "    y = np.linspace(h, 1-h, n)\n",
    "\n",
    "    #Create internal mesh (excludes boundaries)\n",
    "    X, Y = np.meshgrid(x, y, indexing='ij')\n",
    "\n",
    "    #Define F \n",
    "    F = 2 * np.pi**2 * np.sin(np.pi*X) * np.sin(np.pi*Y)  \n",
    "\n",
    "    #Define tridiagonal matrix T\n",
    "    diagonals = [[-2],[1],[1]]\n",
    "    T = np.multiply(-1/h**2, diags(diagonals, [0, -1, 1], shape=(n, n)).toarray())\n",
    "\n",
    "    eigvals = np.empty(n)\n",
    "    eigvecs = np.empty([n,n])\n",
    "\n",
    "    for i in range(0,n):\n",
    "        eigvals[i] = (T[0][0] - T[0][0]*np.cos((i+1)*np.pi/(n+1)))\n",
    "        for j in range(0,n):\n",
    "            eigvecs[i][j] = np.sqrt(2/(n+1))*np.sin(((i+1)*(j+1)*np.pi)/(n+1))\n",
    "\n",
    "\n",
    "    #Set eigenvalues as diagonal matrix\n",
    "    diag = diags(eigvals, 0, shape=(n, n)).toarray()\n",
    "\n",
    "    #Set basis matrix M, with columns as the eigenvectors\n",
    "    P = eigvecs\n",
    "\n",
    "    #Define F_hat = P^-1 * F * P\n",
    "    F_hat = np.matmul(np.matmul(np.linalg.inv(P),F),P)\n",
    "\n",
    "    #Calculate U_hat, u_hat(i,j) = f(i,j) / eigval(i) + eigval(j)\n",
    "    U_hat = np.empty([n,n])\n",
    "    for i in range(0,n):\n",
    "        for j in range(0,n):\n",
    "            if (eigvals[i]!=0 or eigvals[j]!=0):\n",
    "                U_hat[i][j] = F_hat[i][j] / (eigvals[i]+eigvals[j])\n",
    "            else:\n",
    "                U_hat[i][j] = 0\n",
    "\n",
    "    #Calculate solution U = M * U^hat * M^-1\n",
    "    U = np.matmul(np.matmul(P,U_hat),np.linalg.inv(P))\n",
    "\n",
    "    #Compute exact solution for comparison\n",
    "    U_exact = np.sin(np.pi*X) * np.sin(np.pi*Y)\n",
    "\n",
    "    #Compute error at each node\n",
    "    error_inf = 0\n",
    "    for i in range(0,n):\n",
    "        for j in range(0,n):\n",
    "            if np.absolute(U_exact[i][j] - U[i][j]) > error_inf:\n",
    "                error_inf = np.absolute(U_exact[i][j] - U[i][j])\n",
    "\n",
    "    h_arr.append(h)\n",
    "    error_arr.append(error_inf)\n",
    "        \n",
    "\n",
    "\n",
    "\n"
   ]
  },
  {
   "cell_type": "code",
   "execution_count": 16,
   "metadata": {},
   "outputs": [
    {
     "name": "stdout",
     "output_type": "stream",
     "text": [
      "[1.9927004823050405, 1.9999202057404843, 2.000013226161257, 1.9897341572441638, 2.00258342131879]\n"
     ]
    }
   ],
   "source": [
    "eoc_arr = []\n",
    "for i in range(1, len(h_arr)):\n",
    "    eoc = np.log(error_arr[i]/error_arr[i-1])/np.log(h_arr[i]/h_arr[i-1])\n",
    "    eoc_arr.append(eoc)\n",
    "    \n",
    "print(eoc_arr)"
   ]
  },
  {
   "cell_type": "code",
   "execution_count": 13,
   "metadata": {},
   "outputs": [
    {
     "name": "stdout",
     "output_type": "stream",
     "text": [
      "Kronecker product:  [1.9926958743013887, 1.9999206630573918, 2.00007136755125]\n",
      "\n",
      "Scipy solve_syl:  [1.9926958743013887, 1.9999153514586772, 1.998824308756417, 1.6961656512877115]\n",
      "\n",
      "Similarity trans (numpy):  [1.9926958743013887, 1.9999153514586772, 1.998683860709652, 1.7071998112990345, 4.810188885859233]\n",
      "\n",
      "Similarity trans (explicit)  [1.9927014692818017, 1.9999152544654404, 2.000001080279963, 1.9897345276531921, 2.0026027928268824]\n",
      "\n",
      "Scipy solve_syl:  [1.9926958743013887, 1.9999153514586772]\n"
     ]
    }
   ],
   "source": [
    "import numpy as np\n",
    "#Kronecker product\n",
    "eoc = []\n",
    "err_arr = [0.0066868, 8.0611e-5, 8.2082e-7, 2.0540e-7]\n",
    "h_arr = [1/11, 1/101, 1/1001, 1/2001]\n",
    "for i in range(1,len(err_arr)):\n",
    "    eoc.append(np.log(err_arr[i]/err_arr[i-1])/np.log(h_arr[i]/h_arr[i-1]))\n",
    "print('Kronecker product: ', eoc)\n",
    "\n",
    "#Scipy solve_sylvester\n",
    "eoc = []\n",
    "err_arr = [0.0066868, 8.0611e-5, 8.2083e-7, 2.0558e-7, 4.3474e-8]\n",
    "h_arr = [1/11, 1/101, 1/1001, 1/2001, 1/5001]\n",
    "for i in range(1,len(err_arr)):\n",
    "    eoc.append(np.log(err_arr[i]/err_arr[i-1])/np.log(h_arr[i]/h_arr[i-1]))\n",
    "print('\\nScipy solve_syl: ', eoc)\n",
    "\n",
    "#Similarity transformation (numpy eigs)\n",
    "eoc = []\n",
    "err_arr = [0.0066868, 8.0611e-5, 8.2083e-7, 2.0560e-7, 4.3041e-8, 1.5349e-9]\n",
    "h_arr = [1/11, 1/101, 1/1001, 1/2001, 1/5001, 1/10001]\n",
    "for i in range(1,len(err_arr)):\n",
    "    eoc.append(np.log(err_arr[i]/err_arr[i-1])/np.log(h_arr[i]/h_arr[i-1]))\n",
    "print('\\nSimilarity trans (numpy): ', eoc)\n",
    "\n",
    "#Similarity transformation (explicit eigs)\n",
    "eoc = []\n",
    "err_arr = [0.0066868, 8.0610e-5, 8.2082e-7, 2.0541e-7, 3.3196e-8, 8.2857e-9]\n",
    "h_arr = [1/11, 1/101, 1/1001, 1/2001, 1/5001, 1/10001]\n",
    "for i in range(1,len(err_arr)):\n",
    "    eoc.append(np.log(err_arr[i]/err_arr[i-1])/np.log(h_arr[i]/h_arr[i-1]))\n",
    "print('\\nSimilarity trans (explicit) ', eoc)\n",
    "\n",
    "#Bartels-stewart\n",
    "eoc = []\n",
    "err_arr = [0.0066868, 8.0611e-5, 8.2083e-7]\n",
    "h_arr = [1/11, 1/101, 1/1001]\n",
    "for i in range(1,len(err_arr)):\n",
    "    eoc.append(np.log(err_arr[i]/err_arr[i-1])/np.log(h_arr[i]/h_arr[i-1]))\n",
    "print('\\nScipy solve_syl: ', eoc)"
   ]
  },
  {
   "cell_type": "code",
   "execution_count": 31,
   "metadata": {},
   "outputs": [
    {
     "name": "stdout",
     "output_type": "stream",
     "text": [
      "1.5098038045359377\n",
      "1.7779805580014385\n",
      "2.639663036061464\n",
      "3.0603385761744866\n",
      "3.1646007756078367\n",
      "3.4833359651371603\n"
     ]
    }
   ],
   "source": [
    "import numpy as np\n",
    "print(np.log(0.032874/0.011544)/np.log((250)/(125)))\n",
    "print(np.log(0.11274/0.032874)/np.log((500)/(250)))\n",
    "print(np.log(0.70258/0.11274)/np.log((1000)/(500)))\n",
    "print(np.log(5.8607/0.70258)/np.log((2000)/(1000)))\n",
    "print(np.log(52.552/5.8607)/np.log((4000)/(2000)))\n",
    "print(np.log(587.73/52.552)/np.log((8000)/(4000)))\n"
   ]
  },
  {
   "cell_type": "code",
   "execution_count": 29,
   "metadata": {},
   "outputs": [
    {
     "name": "stdout",
     "output_type": "stream",
     "text": [
      "2.0008516536097307\n",
      "1.9997603748959036\n",
      "1.9998887988341654\n",
      "1.99998104644547\n",
      "1.9999913512390772\n",
      "2.000082107114012\n"
     ]
    }
   ],
   "source": [
    "import numpy as np\n",
    "print(np.log(0.00055258/0.0021941)/np.log((1/251)/(1/126)))\n",
    "print(np.log(0.00013872/0.00055258)/np.log((1/501)/(1/251)))\n",
    "print(np.log(3.4752e-5/0.00013872)/np.log((1/1001)/(1/501)))\n",
    "print(np.log(8.6968e-6/3.4752e-5)/np.log((1/2001)/(1/1001)))\n",
    "print(np.log(2.1753e-6/8.6968e-6)/np.log((1/4001)/(1/2001)))\n",
    "print(np.log(5.4395e-7/2.17538e-6)/np.log((1/8001)/(1/4001)))\n",
    "# print(np.log(7.7527e-10/1.2813e-8)/np.log((1/8001)/(1/4001)))\n"
   ]
  },
  {
   "cell_type": "code",
   "execution_count": 1,
   "metadata": {},
   "outputs": [
    {
     "name": "stdout",
     "output_type": "stream",
     "text": [
      "2.191100804778372\n"
     ]
    }
   ],
   "source": [
    "import numpy as np\n",
    "print(np.log(36.762/8.0503)/np.log((8000)/(4000)))"
   ]
  },
  {
   "cell_type": "code",
   "execution_count": null,
   "metadata": {},
   "outputs": [],
   "source": []
  }
 ],
 "metadata": {
  "kernelspec": {
   "display_name": "Python 3",
   "language": "python",
   "name": "python3"
  },
  "language_info": {
   "codemirror_mode": {
    "name": "ipython",
    "version": 3
   },
   "file_extension": ".py",
   "mimetype": "text/x-python",
   "name": "python",
   "nbconvert_exporter": "python",
   "pygments_lexer": "ipython3",
   "version": "3.6.5"
  }
 },
 "nbformat": 4,
 "nbformat_minor": 2
}
